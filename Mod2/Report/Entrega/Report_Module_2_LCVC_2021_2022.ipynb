{
  "cells": [
    {
      "cell_type": "code",
      "execution_count": null,
      "metadata": {
        "id": "zESoOyGWhg8f"
      },
      "outputs": [],
      "source": [
        "!pip install torch\n",
        "!pip install torchani"
      ]
    },
    {
      "cell_type": "code",
      "execution_count": null,
      "metadata": {
        "id": "GIeFXS0F0zww"
      },
      "outputs": [],
      "source": [
        "%%shell\n",
        "set -e\n",
        "\n",
        "#---------------------------------------------------#\n",
        "JULIA_VERSION=\"1.7.1\" # any version ≥ 0.7.0\n",
        "JULIA_PACKAGES=\"IJulia BenchmarkTools\"\n",
        "JULIA_PACKAGES_IF_GPU=\"CUDA\" # or CuArrays for older Julia versions\n",
        "JULIA_NUM_THREADS=2\n",
        "#---------------------------------------------------#\n",
        "\n",
        "if [ -n \"$COLAB_GPU\" ] && [ -z `which julia` ]; then\n",
        "  # Install Julia\n",
        "  JULIA_VER=`cut -d '.' -f -2 <<< \"$JULIA_VERSION\"`\n",
        "  echo \"Installing Julia $JULIA_VERSION on the current Colab Runtime...\"\n",
        "  BASE_URL=\"https://julialang-s3.julialang.org/bin/linux/x64\"\n",
        "  URL=\"$BASE_URL/$JULIA_VER/julia-$JULIA_VERSION-linux-x86_64.tar.gz\"\n",
        "  wget -nv $URL -O /tmp/julia.tar.gz # -nv means \"not verbose\"\n",
        "  tar -x -f /tmp/julia.tar.gz -C /usr/local --strip-components 1\n",
        "  rm /tmp/julia.tar.gz\n",
        "\n",
        "  # Install Packages\n",
        "  if [ \"$COLAB_GPU\" = \"1\" ]; then\n",
        "      JULIA_PACKAGES=\"$JULIA_PACKAGES $JULIA_PACKAGES_IF_GPU\"\n",
        "  fi\n",
        "  for PKG in `echo $JULIA_PACKAGES`; do\n",
        "    echo \"Installing Julia package $PKG...\"\n",
        "    julia -e 'using Pkg; pkg\"add '$PKG'; precompile;\"' &> /dev/null\n",
        "  done\n",
        "\n",
        "  # Install kernel and rename it to \"julia\"\n",
        "  echo \"Installing IJulia kernel...\"\n",
        "  julia -e 'using IJulia; IJulia.installkernel(\"julia\", env=Dict(\n",
        "      \"JULIA_NUM_THREADS\"=>\"'\"$JULIA_NUM_THREADS\"'\"))'\n",
        "  KERNEL_DIR=`julia -e \"using IJulia; print(IJulia.kerneldir())\"`\n",
        "  KERNEL_NAME=`ls -d \"$KERNEL_DIR\"/julia*`\n",
        "  mv -f $KERNEL_NAME \"$KERNEL_DIR\"/julia  \n",
        "\n",
        "  echo ''\n",
        "  echo \"Successfully installed `julia -v`!\"\n",
        "  echo \"Please reload this page (press Ctrl+R, ⌘+R, or the F5 key) then\"\n",
        "  echo \"jump to the 'Checking the Installation' section.\"\n",
        "fi"
      ]
    },
    {
      "cell_type": "markdown",
      "metadata": {
        "id": "-OS3Ac017T1i"
      },
      "source": [
        "# Checking the Installation\n",
        "The `versioninfo()` function should print your Julia version and some other info about the system:"
      ]
    },
    {
      "cell_type": "code",
      "execution_count": null,
      "metadata": {
        "id": "EEzvvzCl1i0F"
      },
      "outputs": [],
      "source": [
        "versioninfo()"
      ]
    },
    {
      "cell_type": "markdown",
      "metadata": {
        "id": "tCRjX7DdthcM"
      },
      "source": [
        "# Adding ProtoSyn.jl package"
      ]
    },
    {
      "cell_type": "code",
      "execution_count": null,
      "metadata": {
        "id": "YjM_qq54lCcs"
      },
      "outputs": [],
      "source": [
        "using Pkg\n",
        "Pkg.add(url=\"https://github.com/JosePereiraUA/ONNX.jl\", rev = \"ops-fix\")\n",
        "Pkg.add(url=\"https://github.com/sergio-santos-group/ProtoSyn.jl\", rev = \"dev\")"
      ]
    },
    {
      "cell_type": "code",
      "execution_count": null,
      "metadata": {
        "id": "XciCcMAJOT3_"
      },
      "outputs": [],
      "source": [
        "using ProtoSyn"
      ]
    },
    {
      "cell_type": "markdown",
      "metadata": {
        "id": "AI8wjtkT7OST"
      },
      "source": [
        "# Projeto do módulo 2 de LCVC"
      ]
    },
    {
      "cell_type": "markdown",
      "metadata": {
        "id": "iGg4yee3w66Y"
      },
      "source": [
        "## 1. Perform a mutation (to any aminoacid you’d like, other than Proline – PRO/P) on any residue you’d like. Showcase the mutation performed."
      ]
    },
    {
      "cell_type": "markdown",
      "metadata": {
        "id": "-7PW_YuK_dqG"
      },
      "source": [
        "Possivéis escolhas de aminoácidos\n"
      ]
    },
    {
      "cell_type": "code",
      "source": [
        "ProtoSyn.three_2_one"
      ],
      "metadata": {
        "id": "9NPjfovKb2ug"
      },
      "execution_count": null,
      "outputs": []
    },
    {
      "cell_type": "code",
      "execution_count": null,
      "metadata": {
        "id": "u-_kP7NjngDE"
      },
      "outputs": [],
      "source": [
        "Set(values(ProtoSyn.three_2_one))"
      ]
    },
    {
      "cell_type": "markdown",
      "metadata": {
        "id": "iPVtc7qO_Hvj"
      },
      "source": [
        "Escolher o residuo e aminoácido:"
      ]
    },
    {
      "cell_type": "code",
      "execution_count": null,
      "metadata": {
        "id": "J7kZeSsno1E9"
      },
      "outputs": [],
      "source": [
        "seleResID = 48; \n",
        "strResID = rid\"48\";\n",
        "seleAmino = \"M\";"
      ]
    },
    {
      "cell_type": "markdown",
      "metadata": {
        "id": "SGmYb92R_S-m"
      },
      "source": [
        "Carregar a proteína original."
      ]
    },
    {
      "cell_type": "code",
      "execution_count": null,
      "metadata": {
        "id": "tzi-uHqFxEqM"
      },
      "outputs": [],
      "source": [
        "pose = ProtoSyn.Peptides.load(\"mol1.pdb\")"
      ]
    },
    {
      "cell_type": "markdown",
      "metadata": {
        "id": "xia0AwxM_saX"
      },
      "source": [
        "Aplicar a mutação:"
      ]
    },
    {
      "cell_type": "code",
      "execution_count": null,
      "metadata": {
        "id": "xZq-6PlQxFt6"
      },
      "outputs": [],
      "source": [
        "ProtoSyn.Peptides.mutate!(pose, pose.graph[1, seleResID], ProtoSyn.Peptides.grammar, [seleAmino])"
      ]
    },
    {
      "cell_type": "markdown",
      "metadata": {
        "id": "jT0gB7M0_wq3"
      },
      "source": [
        "Gravar a proteína final:"
      ]
    },
    {
      "cell_type": "code",
      "execution_count": null,
      "metadata": {
        "id": "BhgkEcv-nkVE"
      },
      "outputs": [],
      "source": [
        "ProtoSyn.write(pose, \"mol1_mutated.pdb\")"
      ]
    },
    {
      "cell_type": "markdown",
      "metadata": {
        "id": "ia18BHCaNZgZ"
      },
      "source": [
        "---\n",
        "\n",
        "## 2. Set-up and run a Monte Carlo simulation to find the best rotamer for the newly mutated aminoacid. Use the Dunbrack 2011 rotamer library. The Monte-Carlo simulation should run for 100 steps, using a constant temperature of 0.01. Evaluate each conformation attempt in the Monte Carlo with an energy function using TorchANI as the single energy function component. (4/10)\n",
        "\n",
        "### a. Print and visualize (i.e.: show) each frame of the simulation, using a Callback, highlighting the conformational changes being made. (1/10)\n"
      ]
    },
    {
      "cell_type": "markdown",
      "metadata": {
        "id": "EmbRokLP_7ok"
      },
      "source": [
        "Função de energia (TorchANI ensemble):"
      ]
    },
    {
      "cell_type": "code",
      "execution_count": null,
      "metadata": {
        "id": "6YVZ6qDVgICv"
      },
      "outputs": [],
      "source": [
        "energy_function = ProtoSyn.Calculators.EnergyFunction()\n",
        "torchani = ProtoSyn.Calculators.TorchANI.get_default_torchani_ensemble()\n",
        "push!(energy_function, torchani)"
      ]
    },
    {
      "cell_type": "markdown",
      "metadata": {
        "id": "S88Orzth4c4S"
      },
      "source": [
        "**Define the RotamerMutator.**\n",
        "( the Dunbrack 2011 rotamer library), the `p_mut` probability of mutation (1.0), the `n_first` most likely rotamers to consider (100), the targeted residue (as a selection, rid\"48\") and finally whether to define random _phi_ and _psi_ dihedral angles in the terminals (set to false, doesn't have any effect for residue 48)."
      ]
    },
    {
      "cell_type": "code",
      "source": [
        ""
      ],
      "metadata": {
        "id": "JIfrnVXGo-Sd"
      },
      "execution_count": null,
      "outputs": []
    },
    {
      "cell_type": "code",
      "execution_count": null,
      "metadata": {
        "id": "gM6vUXPWaydb"
      },
      "outputs": [],
      "source": [
        "rotamer_library = ProtoSyn.Peptides.load_dunbrack()\n",
        "rotamer_mutator = ProtoSyn.Peptides.Mutators.RotamerMutator(rotamer_library, 1.0, 100, strResID, false)"
      ]
    },
    {
      "cell_type": "markdown",
      "metadata": {
        "id": "3Q7WHi1BADc2"
      },
      "source": [
        "Definir callback:"
      ]
    },
    {
      "cell_type": "code",
      "execution_count": null,
      "metadata": {
        "id": "0jxirluJ41e5"
      },
      "outputs": [],
      "source": [
        "callback = ProtoSyn.Common.default_energy_step_frame_callback(1, \"mol1_simulation.pdb\")"
      ]
    },
    {
      "cell_type": "markdown",
      "metadata": {
        "id": "YSYqY4bM5xdb"
      },
      "source": [
        "Definir o termostato com temperatura, T = 0.01:"
      ]
    },
    {
      "cell_type": "code",
      "execution_count": null,
      "metadata": {
        "id": "LLnMp_rO5sUY"
      },
      "outputs": [],
      "source": [
        "thermostat = ProtoSyn.Drivers.get_constant_temperature(0.01)"
      ]
    },
    {
      "cell_type": "markdown",
      "metadata": {
        "id": "wLa3dZW8ASGL"
      },
      "source": [
        "Criar o Monte Carlo:"
      ]
    },
    {
      "cell_type": "code",
      "execution_count": null,
      "metadata": {
        "id": "Cpvg2HvW5_Zh"
      },
      "outputs": [],
      "source": [
        "monte_carlo = ProtoSyn.Drivers.MonteCarlo(\n",
        "  energy_function,\n",
        "  rotamer_mutator,\n",
        "  callback,\n",
        "  100, #steps\n",
        "  thermostat)"
      ]
    },
    {
      "cell_type": "markdown",
      "metadata": {
        "id": "5_wJt0K_AbQk"
      },
      "source": [
        "Carregar a molécula mutada anteriormente para aplicação do método de Monte Carlo:"
      ]
    },
    {
      "cell_type": "code",
      "execution_count": null,
      "metadata": {
        "id": "PEQsMsun61zo"
      },
      "outputs": [],
      "source": [
        "pose = ProtoSyn.Peptides.load(\"mol1_mutated.pdb\")"
      ]
    },
    {
      "cell_type": "markdown",
      "metadata": {
        "id": "cxQeSeXNEGiz"
      },
      "source": [
        "Guardar o estado inicial:"
      ]
    },
    {
      "cell_type": "code",
      "execution_count": null,
      "metadata": {
        "id": "GWlc2h1w64Bw"
      },
      "outputs": [],
      "source": [
        "ProtoSyn.write(pose, \"mol1_simulation.pdb\")"
      ]
    },
    {
      "cell_type": "markdown",
      "metadata": {
        "id": "45LzYGmLAq5t"
      },
      "source": [
        "Simulação:"
      ]
    },
    {
      "cell_type": "code",
      "execution_count": null,
      "metadata": {
        "id": "ZLHClrgmxt01"
      },
      "outputs": [],
      "source": [
        "monte_carlo(pose)"
      ]
    },
    {
      "cell_type": "markdown",
      "metadata": {
        "id": "GxcoF6CIxrIu"
      },
      "source": [
        "## 4. Perform the same simulation, on the same residue, but applying different initial mutations (i.e.: mutate to different target aminoacids). Are there any noticeable differences both in energy and structure? (2/10)"
      ]
    },
    {
      "cell_type": "markdown",
      "metadata": {
        "id": "N9BMZH-9oNc-"
      },
      "source": [
        "### -> repetir mas mudar o \"R\" para outro aminoacido"
      ]
    },
    {
      "cell_type": "code",
      "source": [
        "a"
      ],
      "metadata": {
        "id": "0hgheEA3JwRg"
      },
      "execution_count": null,
      "outputs": []
    }
  ],
  "metadata": {
    "colab": {
      "collapsed_sections": [],
      "name": "Report-Module-2-LCVC-2021-2022",
      "provenance": []
    },
    "kernelspec": {
      "display_name": "Julia",
      "language": "julia",
      "name": "julia"
    },
    "language_info": {
      "file_extension": ".jl",
      "mimetype": "application/julia",
      "name": "julia"
    }
  },
  "nbformat": 4,
  "nbformat_minor": 0
}